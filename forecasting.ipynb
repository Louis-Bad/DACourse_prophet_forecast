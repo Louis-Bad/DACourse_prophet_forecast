{
 "cells": [
  {
   "cell_type": "markdown",
   "id": "c3b79b56-968f-4b43-afe9-c57af40a382c",
   "metadata": {
    "tags": []
   },
   "source": [
    "# Messing around with Prophet"
   ]
  },
  {
   "cell_type": "markdown",
   "id": "b939bb93-c08e-4ada-9e7d-b3f878e9cf9b",
   "metadata": {
    "jp-MarkdownHeadingCollapsed": true,
    "tags": []
   },
   "source": [
    "## Set up"
   ]
  },
  {
   "cell_type": "code",
   "execution_count": 1,
   "id": "d8a05c6e",
   "metadata": {},
   "outputs": [],
   "source": [
    "import pandas as pd\n",
    "from prophet import Prophet"
   ]
  },
  {
   "cell_type": "code",
   "execution_count": 2,
   "id": "8c4be586-a742-4b08-a8e4-5c8b4d8f4c85",
   "metadata": {},
   "outputs": [
    {
     "data": {
      "text/html": [
       "<div>\n",
       "<style scoped>\n",
       "    .dataframe tbody tr th:only-of-type {\n",
       "        vertical-align: middle;\n",
       "    }\n",
       "\n",
       "    .dataframe tbody tr th {\n",
       "        vertical-align: top;\n",
       "    }\n",
       "\n",
       "    .dataframe thead th {\n",
       "        text-align: right;\n",
       "    }\n",
       "</style>\n",
       "<table border=\"1\" class=\"dataframe\">\n",
       "  <thead>\n",
       "    <tr style=\"text-align: right;\">\n",
       "      <th></th>\n",
       "      <th>date</th>\n",
       "      <th>Patients Recruited</th>\n",
       "    </tr>\n",
       "  </thead>\n",
       "  <tbody>\n",
       "    <tr>\n",
       "      <th>0</th>\n",
       "      <td>2021-01-07</td>\n",
       "      <td>1</td>\n",
       "    </tr>\n",
       "    <tr>\n",
       "      <th>1</th>\n",
       "      <td>2021-01-10</td>\n",
       "      <td>2</td>\n",
       "    </tr>\n",
       "    <tr>\n",
       "      <th>2</th>\n",
       "      <td>2021-01-11</td>\n",
       "      <td>2</td>\n",
       "    </tr>\n",
       "    <tr>\n",
       "      <th>3</th>\n",
       "      <td>2021-01-12</td>\n",
       "      <td>9</td>\n",
       "    </tr>\n",
       "    <tr>\n",
       "      <th>4</th>\n",
       "      <td>2021-02-11</td>\n",
       "      <td>6</td>\n",
       "    </tr>\n",
       "  </tbody>\n",
       "</table>\n",
       "</div>"
      ],
      "text/plain": [
       "         date  Patients Recruited\n",
       "0  2021-01-07                   1\n",
       "1  2021-01-10                   2\n",
       "2  2021-01-11                   2\n",
       "3  2021-01-12                   9\n",
       "4  2021-02-11                   6"
      ]
     },
     "execution_count": 2,
     "metadata": {},
     "output_type": "execute_result"
    }
   ],
   "source": [
    "# Importing the dataset\n",
    "df = pd.read_csv('data/recruited_daily.csv')\n",
    "df.head()"
   ]
  },
  {
   "cell_type": "markdown",
   "id": "8593bb3a-87da-4f44-84be-25da9f0e6a2d",
   "metadata": {
    "tags": []
   },
   "source": [
    "## Preprocessing"
   ]
  },
  {
   "cell_type": "code",
   "execution_count": 3,
   "id": "aabee612-49d6-4eed-afb7-e4da98032d86",
   "metadata": {},
   "outputs": [
    {
     "data": {
      "text/plain": [
       "date                  datetime64[ns]\n",
       "Patients Recruited             int64\n",
       "dtype: object"
      ]
     },
     "execution_count": 3,
     "metadata": {},
     "output_type": "execute_result"
    }
   ],
   "source": [
    "# Change dates to datetime objects\n",
    "df['date'] = pd.to_datetime(df['date'])\n",
    "df.dtypes"
   ]
  },
  {
   "cell_type": "code",
   "execution_count": 4,
   "id": "c6c08636-05e9-4529-bef5-be4da98894d4",
   "metadata": {},
   "outputs": [
    {
     "data": {
      "text/html": [
       "<div>\n",
       "<style scoped>\n",
       "    .dataframe tbody tr th:only-of-type {\n",
       "        vertical-align: middle;\n",
       "    }\n",
       "\n",
       "    .dataframe tbody tr th {\n",
       "        vertical-align: top;\n",
       "    }\n",
       "\n",
       "    .dataframe thead th {\n",
       "        text-align: right;\n",
       "    }\n",
       "</style>\n",
       "<table border=\"1\" class=\"dataframe\">\n",
       "  <thead>\n",
       "    <tr style=\"text-align: right;\">\n",
       "      <th></th>\n",
       "      <th>ds</th>\n",
       "      <th>y</th>\n",
       "    </tr>\n",
       "  </thead>\n",
       "  <tbody>\n",
       "    <tr>\n",
       "      <th>0</th>\n",
       "      <td>2021-01-07</td>\n",
       "      <td>1</td>\n",
       "    </tr>\n",
       "    <tr>\n",
       "      <th>1</th>\n",
       "      <td>2021-01-10</td>\n",
       "      <td>2</td>\n",
       "    </tr>\n",
       "    <tr>\n",
       "      <th>2</th>\n",
       "      <td>2021-01-11</td>\n",
       "      <td>2</td>\n",
       "    </tr>\n",
       "    <tr>\n",
       "      <th>3</th>\n",
       "      <td>2021-01-12</td>\n",
       "      <td>9</td>\n",
       "    </tr>\n",
       "    <tr>\n",
       "      <th>4</th>\n",
       "      <td>2021-02-11</td>\n",
       "      <td>6</td>\n",
       "    </tr>\n",
       "  </tbody>\n",
       "</table>\n",
       "</div>"
      ],
      "text/plain": [
       "          ds  y\n",
       "0 2021-01-07  1\n",
       "1 2021-01-10  2\n",
       "2 2021-01-11  2\n",
       "3 2021-01-12  9\n",
       "4 2021-02-11  6"
      ]
     },
     "execution_count": 4,
     "metadata": {},
     "output_type": "execute_result"
    }
   ],
   "source": [
    "# Rename column names to 'ds' for the dates and 'y' for the values.\n",
    "# This is for use with prophet\n",
    "df.columns = ['ds', 'y']\n",
    "\n",
    "df.head()"
   ]
  },
  {
   "cell_type": "code",
   "execution_count": 66,
   "id": "e0e64e2a-a3f4-4a2c-9018-5f24e981c2b5",
   "metadata": {},
   "outputs": [],
   "source": [
    "# # Create a new dataframe with resampled dates as monthly aggregates\n",
    "# df_monthly = df.set_index('ds').resample('M').sum()\n",
    "# df_monthly = df_monthly.reset_index()\n",
    "\n",
    "# df_monthly.head()"
   ]
  },
  {
   "cell_type": "code",
   "execution_count": 67,
   "id": "0f2a5b04-dc70-47ce-a84f-4d999fa96526",
   "metadata": {},
   "outputs": [
    {
     "name": "stdout",
     "output_type": "stream",
     "text": [
      "length of train :227, length of test: 58\n",
      "percentage of data = 80% train / 20% test\n",
      "number of days in test: 148 days 00:00:00\n"
     ]
    }
   ],
   "source": [
    "# Creating a train-test split for cross validation\n",
    "# Dates start at Jan 2021 and end Dec 2022 \n",
    "cut_off_date = '2022-07-07'\n",
    "\n",
    "# Splitting the dataset based on the above cut off date\n",
    "train_df = df.loc[df['ds'] <= cut_off_date]\n",
    "test_df = df.loc[df['ds'] > cut_off_date]\n",
    "\n",
    "# Output some metrics about the split\n",
    "\n",
    "train_df_len = train_df.shape[0]\n",
    "test_df_len = test_df.shape[0]\n",
    "print(f\"length of train :{train_df_len}, length of test: {test_df_len}\")\n",
    "print(f\"percentage of data = { round((train_df_len/df.shape[0]) *100)}% train / { round((test_df_len/df.shape[0]) *100)}% test\")\n",
    "print(f\"number of days in test: { test_df['ds'].max() - test_df['ds'].min() }\")"
   ]
  },
  {
   "cell_type": "code",
   "execution_count": 70,
   "id": "064cf33d-2ddb-44b2-8fbc-c452bd82c227",
   "metadata": {},
   "outputs": [
    {
     "data": {
      "text/html": [
       "<div>\n",
       "<style scoped>\n",
       "    .dataframe tbody tr th:only-of-type {\n",
       "        vertical-align: middle;\n",
       "    }\n",
       "\n",
       "    .dataframe tbody tr th {\n",
       "        vertical-align: top;\n",
       "    }\n",
       "\n",
       "    .dataframe thead th {\n",
       "        text-align: right;\n",
       "    }\n",
       "</style>\n",
       "<table border=\"1\" class=\"dataframe\">\n",
       "  <thead>\n",
       "    <tr style=\"text-align: right;\">\n",
       "      <th></th>\n",
       "      <th>ds</th>\n",
       "      <th>y</th>\n",
       "    </tr>\n",
       "  </thead>\n",
       "  <tbody>\n",
       "    <tr>\n",
       "      <th>0</th>\n",
       "      <td>2021-01-31</td>\n",
       "      <td>14</td>\n",
       "    </tr>\n",
       "    <tr>\n",
       "      <th>1</th>\n",
       "      <td>2021-02-28</td>\n",
       "      <td>11</td>\n",
       "    </tr>\n",
       "    <tr>\n",
       "      <th>2</th>\n",
       "      <td>2021-03-31</td>\n",
       "      <td>16</td>\n",
       "    </tr>\n",
       "    <tr>\n",
       "      <th>3</th>\n",
       "      <td>2021-04-30</td>\n",
       "      <td>13</td>\n",
       "    </tr>\n",
       "    <tr>\n",
       "      <th>4</th>\n",
       "      <td>2021-05-31</td>\n",
       "      <td>10</td>\n",
       "    </tr>\n",
       "  </tbody>\n",
       "</table>\n",
       "</div>"
      ],
      "text/plain": [
       "          ds   y\n",
       "0 2021-01-31  14\n",
       "1 2021-02-28  11\n",
       "2 2021-03-31  16\n",
       "3 2021-04-30  13\n",
       "4 2021-05-31  10"
      ]
     },
     "execution_count": 70,
     "metadata": {},
     "output_type": "execute_result"
    }
   ],
   "source": [
    "# Create a new dataframe with resampled dates as monthly aggregates\n",
    "train_df_monthly = train_df.set_index('ds').resample('M').sum()\n",
    "train_df_monthly = train_df_monthly.reset_index()\n",
    "\n",
    "train_df_monthly.head()"
   ]
  },
  {
   "cell_type": "markdown",
   "id": "55b14226-38da-4c7d-bc04-fa5ab11fac95",
   "metadata": {
    "tags": []
   },
   "source": [
    "## Forecasting"
   ]
  },
  {
   "cell_type": "markdown",
   "id": "d5fdf392-d326-4ea8-a906-9d8b652e7eb6",
   "metadata": {
    "tags": []
   },
   "source": [
    "**To-do:**\n",
    "1. Create a train-test spilt for cross validation.\n",
    "2. Compare predictions with actual values\n",
    "3. Then forecast for a prediction in the future.\n",
    "4. Make some commments about the 95 confidence interval.\n",
    "<br><br><br>\n",
    "\n",
    "**Things to understand:**\n",
    "- What is an additive model\n",
    "- what are the alternatives to prophet and why choose them instead of prophet or vice versa.\n",
    "- Why doesn't prophet require preprocessing?\n",
    "- How to use the holidays feature of prophet "
   ]
  },
  {
   "cell_type": "code",
   "execution_count": 71,
   "id": "e8a9334c",
   "metadata": {},
   "outputs": [
    {
     "name": "stderr",
     "output_type": "stream",
     "text": [
      "21:36:03 - cmdstanpy - INFO - Chain [1] start processing\n",
      "21:36:03 - cmdstanpy - INFO - Chain [1] done processing\n"
     ]
    }
   ],
   "source": [
    "# Train the model\n",
    "m = Prophet(interval_width=0.95)\n",
    "model = m.fit(train_df_monthly)"
   ]
  },
  {
   "cell_type": "code",
   "execution_count": 72,
   "id": "ef1f8696",
   "metadata": {},
   "outputs": [
    {
     "data": {
      "text/html": [
       "<div>\n",
       "<style scoped>\n",
       "    .dataframe tbody tr th:only-of-type {\n",
       "        vertical-align: middle;\n",
       "    }\n",
       "\n",
       "    .dataframe tbody tr th {\n",
       "        vertical-align: top;\n",
       "    }\n",
       "\n",
       "    .dataframe thead th {\n",
       "        text-align: right;\n",
       "    }\n",
       "</style>\n",
       "<table border=\"1\" class=\"dataframe\">\n",
       "  <thead>\n",
       "    <tr style=\"text-align: right;\">\n",
       "      <th></th>\n",
       "      <th>ds</th>\n",
       "    </tr>\n",
       "  </thead>\n",
       "  <tbody>\n",
       "    <tr>\n",
       "      <th>18</th>\n",
       "      <td>2022-07-31</td>\n",
       "    </tr>\n",
       "    <tr>\n",
       "      <th>19</th>\n",
       "      <td>2022-08-31</td>\n",
       "    </tr>\n",
       "    <tr>\n",
       "      <th>20</th>\n",
       "      <td>2022-09-30</td>\n",
       "    </tr>\n",
       "    <tr>\n",
       "      <th>21</th>\n",
       "      <td>2022-10-31</td>\n",
       "    </tr>\n",
       "    <tr>\n",
       "      <th>22</th>\n",
       "      <td>2022-11-30</td>\n",
       "    </tr>\n",
       "  </tbody>\n",
       "</table>\n",
       "</div>"
      ],
      "text/plain": [
       "           ds\n",
       "18 2022-07-31\n",
       "19 2022-08-31\n",
       "20 2022-09-30\n",
       "21 2022-10-31\n",
       "22 2022-11-30"
      ]
     },
     "execution_count": 72,
     "metadata": {},
     "output_type": "execute_result"
    }
   ],
   "source": [
    "# Creating the future dates to forcast\n",
    "future_dates = model.make_future_dataframe(periods=4, freq='M')\n",
    "future_dates.tail()"
   ]
  },
  {
   "cell_type": "code",
   "execution_count": 73,
   "id": "2fa4695a",
   "metadata": {},
   "outputs": [
    {
     "data": {
      "text/html": [
       "<div>\n",
       "<style scoped>\n",
       "    .dataframe tbody tr th:only-of-type {\n",
       "        vertical-align: middle;\n",
       "    }\n",
       "\n",
       "    .dataframe tbody tr th {\n",
       "        vertical-align: top;\n",
       "    }\n",
       "\n",
       "    .dataframe thead th {\n",
       "        text-align: right;\n",
       "    }\n",
       "</style>\n",
       "<table border=\"1\" class=\"dataframe\">\n",
       "  <thead>\n",
       "    <tr style=\"text-align: right;\">\n",
       "      <th></th>\n",
       "      <th>ds</th>\n",
       "      <th>trend</th>\n",
       "      <th>yhat_lower</th>\n",
       "      <th>yhat_upper</th>\n",
       "      <th>trend_lower</th>\n",
       "      <th>trend_upper</th>\n",
       "      <th>additive_terms</th>\n",
       "      <th>additive_terms_lower</th>\n",
       "      <th>additive_terms_upper</th>\n",
       "      <th>multiplicative_terms</th>\n",
       "      <th>multiplicative_terms_lower</th>\n",
       "      <th>multiplicative_terms_upper</th>\n",
       "      <th>yhat</th>\n",
       "    </tr>\n",
       "  </thead>\n",
       "  <tbody>\n",
       "    <tr>\n",
       "      <th>0</th>\n",
       "      <td>2021-01-31</td>\n",
       "      <td>-5.616254</td>\n",
       "      <td>-76.669238</td>\n",
       "      <td>59.435947</td>\n",
       "      <td>-5.616254</td>\n",
       "      <td>-5.616254</td>\n",
       "      <td>0.0</td>\n",
       "      <td>0.0</td>\n",
       "      <td>0.0</td>\n",
       "      <td>0.0</td>\n",
       "      <td>0.0</td>\n",
       "      <td>0.0</td>\n",
       "      <td>-5.616254</td>\n",
       "    </tr>\n",
       "    <tr>\n",
       "      <th>1</th>\n",
       "      <td>2021-02-28</td>\n",
       "      <td>2.126951</td>\n",
       "      <td>-69.722041</td>\n",
       "      <td>70.948705</td>\n",
       "      <td>2.126951</td>\n",
       "      <td>2.126951</td>\n",
       "      <td>0.0</td>\n",
       "      <td>0.0</td>\n",
       "      <td>0.0</td>\n",
       "      <td>0.0</td>\n",
       "      <td>0.0</td>\n",
       "      <td>0.0</td>\n",
       "      <td>2.126951</td>\n",
       "    </tr>\n",
       "    <tr>\n",
       "      <th>2</th>\n",
       "      <td>2021-03-31</td>\n",
       "      <td>10.699785</td>\n",
       "      <td>-60.303756</td>\n",
       "      <td>78.849266</td>\n",
       "      <td>10.699785</td>\n",
       "      <td>10.699785</td>\n",
       "      <td>0.0</td>\n",
       "      <td>0.0</td>\n",
       "      <td>0.0</td>\n",
       "      <td>0.0</td>\n",
       "      <td>0.0</td>\n",
       "      <td>0.0</td>\n",
       "      <td>10.699785</td>\n",
       "    </tr>\n",
       "    <tr>\n",
       "      <th>3</th>\n",
       "      <td>2021-04-30</td>\n",
       "      <td>18.996075</td>\n",
       "      <td>-46.230781</td>\n",
       "      <td>88.037600</td>\n",
       "      <td>18.996075</td>\n",
       "      <td>18.996075</td>\n",
       "      <td>0.0</td>\n",
       "      <td>0.0</td>\n",
       "      <td>0.0</td>\n",
       "      <td>0.0</td>\n",
       "      <td>0.0</td>\n",
       "      <td>0.0</td>\n",
       "      <td>18.996075</td>\n",
       "    </tr>\n",
       "    <tr>\n",
       "      <th>4</th>\n",
       "      <td>2021-05-31</td>\n",
       "      <td>27.568909</td>\n",
       "      <td>-51.212787</td>\n",
       "      <td>99.782966</td>\n",
       "      <td>27.568909</td>\n",
       "      <td>27.568909</td>\n",
       "      <td>0.0</td>\n",
       "      <td>0.0</td>\n",
       "      <td>0.0</td>\n",
       "      <td>0.0</td>\n",
       "      <td>0.0</td>\n",
       "      <td>0.0</td>\n",
       "      <td>27.568909</td>\n",
       "    </tr>\n",
       "  </tbody>\n",
       "</table>\n",
       "</div>"
      ],
      "text/plain": [
       "          ds      trend  yhat_lower  yhat_upper  trend_lower  trend_upper  \\\n",
       "0 2021-01-31  -5.616254  -76.669238   59.435947    -5.616254    -5.616254   \n",
       "1 2021-02-28   2.126951  -69.722041   70.948705     2.126951     2.126951   \n",
       "2 2021-03-31  10.699785  -60.303756   78.849266    10.699785    10.699785   \n",
       "3 2021-04-30  18.996075  -46.230781   88.037600    18.996075    18.996075   \n",
       "4 2021-05-31  27.568909  -51.212787   99.782966    27.568909    27.568909   \n",
       "\n",
       "   additive_terms  additive_terms_lower  additive_terms_upper  \\\n",
       "0             0.0                   0.0                   0.0   \n",
       "1             0.0                   0.0                   0.0   \n",
       "2             0.0                   0.0                   0.0   \n",
       "3             0.0                   0.0                   0.0   \n",
       "4             0.0                   0.0                   0.0   \n",
       "\n",
       "   multiplicative_terms  multiplicative_terms_lower  \\\n",
       "0                   0.0                         0.0   \n",
       "1                   0.0                         0.0   \n",
       "2                   0.0                         0.0   \n",
       "3                   0.0                         0.0   \n",
       "4                   0.0                         0.0   \n",
       "\n",
       "   multiplicative_terms_upper       yhat  \n",
       "0                         0.0  -5.616254  \n",
       "1                         0.0   2.126951  \n",
       "2                         0.0  10.699785  \n",
       "3                         0.0  18.996075  \n",
       "4                         0.0  27.568909  "
      ]
     },
     "execution_count": 73,
     "metadata": {},
     "output_type": "execute_result"
    }
   ],
   "source": [
    "# Forecasting output\n",
    "forecast = model.predict(future_dates)\n",
    "forecast.head()"
   ]
  },
  {
   "cell_type": "code",
   "execution_count": 76,
   "id": "26155f69-338e-480e-bc57-fec58df67198",
   "metadata": {},
   "outputs": [
    {
     "data": {
      "image/png": "[encoded data removed]",
      "text/plain": [
       "<Figure size 720x432 with 1 Axes>"
      ]
     },
     "metadata": {},
     "output_type": "display_data"
    }
   ],
   "source": [
    "# Forecast plot\n",
    "plot1 = model.plot(forecast)"
   ]
  },
  {
   "cell_type": "code",
   "execution_count": 64,
   "id": "696a4cf9-8b16-4ead-8df3-b3bf7583dd8a",
   "metadata": {},
   "outputs": [
    {
     "name": "stderr",
     "output_type": "stream",
     "text": [
      "21:32:04 - cmdstanpy - INFO - Chain [1] start processing\n",
      "21:32:04 - cmdstanpy - INFO - Chain [1] done processing\n"
     ]
    },
    {
     "data": {
      "image/png": "[encoded data removed]",
      "text/plain": [
       "<Figure size 720x432 with 1 Axes>"
      ]
     },
     "metadata": {},
     "output_type": "display_data"
    }
   ],
   "source": [
    "# forecasting with monthly dataframe\n",
    "\n",
    "# Fit model\n",
    "m = Prophet(interval_width=0.95)\n",
    "model2 = m.fit(df_monthly)\n",
    "\n",
    "# Creating the future dates\n",
    "future_dates2 = model.make_future_dataframe(periods=12, freq='M')\n",
    "future_dates2.head()\n",
    "\n",
    "# Forecasting output\n",
    "forecast2 = m.predict(future_dates2)\n",
    "\n",
    "# Forecast plot\n",
    "plot2 = m.plot(forecast2)"
   ]
  },
  {
   "cell_type": "markdown",
   "id": "c55a9310-e54b-422a-8144-f0134d8ff2cb",
   "metadata": {},
   "source": [
    "Some notes about what Prophet is doing: <br>\n",
    "You'll note that I've made no attempt at making the data stationary before shoving it into a model, but apparently the model that prophet is using isn't concerned with stationarity... <br>\n",
    "*\"No. Stationarity is an important condition for some other time series forecasting algorithms such as ARMA or ARIMA, but prophet assumes nothing about stationarity. Prophet rather makes use of features like trend or seasonality, which stationary data by definition do not have\"*\n",
    "<br><br>\n",
    "I'll probably want to learn how to intepret the plot and dataframe that prophet has output above, next.\n",
    "..."
   ]
  },
  {
   "cell_type": "code",
   "execution_count": 16,
   "id": "ab88c5b0-d900-4866-bc0f-5c5ccc5dae5e",
   "metadata": {},
   "outputs": [
    {
     "data": {
      "image/png": "[encoded data removed]",
      "text/plain": [
       "<Figure size 648x216 with 1 Axes>"
      ]
     },
     "execution_count": 16,
     "metadata": {},
     "output_type": "execute_result"
    },
    {
     "data": {
      "image/png": "[encoded data removed]",
      "text/plain": [
       "<Figure size 648x216 with 1 Axes>"
      ]
     },
     "metadata": {},
     "output_type": "display_data"
    }
   ],
   "source": [
    "model2.plot_components(forecast2)"
   ]
  },
  {
   "cell_type": "code",
   "execution_count": null,
   "id": "04e57643-4afc-4bbe-af97-20b83a18775a",
   "metadata": {},
   "outputs": [],
   "source": []
  },
  {
   "cell_type": "markdown",
   "id": "1da838b7-9acf-4b31-a982-9654983c707e",
   "metadata": {},
   "source": [
    "## Key Improvements & Caveats"
   ]
  }
 ],
 "metadata": {
  "kernelspec": {
   "display_name": "Python 3 (ipykernel)",
   "language": "python",
   "name": "python3"
  },
  "language_info": {
   "codemirror_mode": {
    "name": "ipython",
    "version": 3
   },
   "file_extension": ".py",
   "mimetype": "text/x-python",
   "name": "python",
   "nbconvert_exporter": "python",
   "pygments_lexer": "ipython3",
   "version": "3.9.12"
  }
 },
 "nbformat": 4,
 "nbformat_minor": 5
}
