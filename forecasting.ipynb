{
 "cells": [
  {
   "cell_type": "markdown",
   "id": "c3b79b56-968f-4b43-afe9-c57af40a382c",
   "metadata": {
    "tags": []
   },
   "source": [
    "# Prophet Forecasting"
   ]
  },
  {
   "cell_type": "markdown",
   "id": "b939bb93-c08e-4ada-9e7d-b3f878e9cf9b",
   "metadata": {
    "tags": []
   },
   "source": [
    "## Set up"
   ]
  },
  {
   "cell_type": "code",
   "execution_count": 1,
   "id": "d8a05c6e",
   "metadata": {},
   "outputs": [],
   "source": [
    "import pandas as pd\n",
    "import numpy as np\n",
    "import matplotlib.pyplot as plt\n",
    "from prophet import Prophet"
   ]
  },
  {
   "cell_type": "code",
   "execution_count": 2,
   "id": "d3c4108e-3bab-4e5d-9ddd-242415007afc",
   "metadata": {},
   "outputs": [],
   "source": [
    "# Plot aesthetics and settings\n",
    "%matplotlib inline\n",
    "plt.style.use('seaborn')\n",
    "\n",
    "\n",
    "# plot function\n",
    "def std_aesthetics(title='', x_label='', y_label='', h=8, w=16):\n",
    "    # figure size\n",
    "    plt.figure(figsize=(w,h))\n",
    "    \n",
    "    # Title and labels\n",
    "    plt.title(title, fontsize=20)\n",
    "    plt.xlabel(x_label, fontsize=16)\n",
    "    plt.ylabel(y_label, fontsize=16)\n",
    "\n",
    "    # Font sizes\n",
    "\n",
    "\n"
   ]
  },
  {
   "cell_type": "code",
   "execution_count": 3,
   "id": "8c4be586-a742-4b08-a8e4-5c8b4d8f4c85",
   "metadata": {},
   "outputs": [
    {
     "data": {
      "text/html": [
       "<div>\n",
       "<style scoped>\n",
       "    .dataframe tbody tr th:only-of-type {\n",
       "        vertical-align: middle;\n",
       "    }\n",
       "\n",
       "    .dataframe tbody tr th {\n",
       "        vertical-align: top;\n",
       "    }\n",
       "\n",
       "    .dataframe thead th {\n",
       "        text-align: right;\n",
       "    }\n",
       "</style>\n",
       "<table border=\"1\" class=\"dataframe\">\n",
       "  <thead>\n",
       "    <tr style=\"text-align: right;\">\n",
       "      <th></th>\n",
       "      <th>date</th>\n",
       "      <th>Patients Recruited</th>\n",
       "    </tr>\n",
       "  </thead>\n",
       "  <tbody>\n",
       "    <tr>\n",
       "      <th>0</th>\n",
       "      <td>2021-01-07</td>\n",
       "      <td>1</td>\n",
       "    </tr>\n",
       "    <tr>\n",
       "      <th>1</th>\n",
       "      <td>2021-01-10</td>\n",
       "      <td>2</td>\n",
       "    </tr>\n",
       "    <tr>\n",
       "      <th>2</th>\n",
       "      <td>2021-01-11</td>\n",
       "      <td>2</td>\n",
       "    </tr>\n",
       "    <tr>\n",
       "      <th>3</th>\n",
       "      <td>2021-01-12</td>\n",
       "      <td>9</td>\n",
       "    </tr>\n",
       "    <tr>\n",
       "      <th>4</th>\n",
       "      <td>2021-02-11</td>\n",
       "      <td>6</td>\n",
       "    </tr>\n",
       "  </tbody>\n",
       "</table>\n",
       "</div>"
      ],
      "text/plain": [
       "         date  Patients Recruited\n",
       "0  2021-01-07                   1\n",
       "1  2021-01-10                   2\n",
       "2  2021-01-11                   2\n",
       "3  2021-01-12                   9\n",
       "4  2021-02-11                   6"
      ]
     },
     "execution_count": 3,
     "metadata": {},
     "output_type": "execute_result"
    }
   ],
   "source": [
    "# Importing the dataset\n",
    "df = pd.read_csv('data/recruited_daily.csv')\n",
    "df.head()"
   ]
  },
  {
   "cell_type": "markdown",
   "id": "8593bb3a-87da-4f44-84be-25da9f0e6a2d",
   "metadata": {
    "tags": []
   },
   "source": [
    "## Preprocessing"
   ]
  },
  {
   "cell_type": "code",
   "execution_count": 4,
   "id": "aabee612-49d6-4eed-afb7-e4da98032d86",
   "metadata": {},
   "outputs": [
    {
     "data": {
      "text/plain": [
       "date                  datetime64[ns]\n",
       "Patients Recruited             int64\n",
       "dtype: object"
      ]
     },
     "execution_count": 4,
     "metadata": {},
     "output_type": "execute_result"
    }
   ],
   "source": [
    "# Change dates to datetime objects\n",
    "df['date'] = pd.to_datetime(df['date'])\n",
    "df.dtypes"
   ]
  },
  {
   "cell_type": "code",
   "execution_count": 5,
   "id": "c6c08636-05e9-4529-bef5-be4da98894d4",
   "metadata": {},
   "outputs": [
    {
     "data": {
      "text/html": [
       "<div>\n",
       "<style scoped>\n",
       "    .dataframe tbody tr th:only-of-type {\n",
       "        vertical-align: middle;\n",
       "    }\n",
       "\n",
       "    .dataframe tbody tr th {\n",
       "        vertical-align: top;\n",
       "    }\n",
       "\n",
       "    .dataframe thead th {\n",
       "        text-align: right;\n",
       "    }\n",
       "</style>\n",
       "<table border=\"1\" class=\"dataframe\">\n",
       "  <thead>\n",
       "    <tr style=\"text-align: right;\">\n",
       "      <th></th>\n",
       "      <th>ds</th>\n",
       "      <th>y</th>\n",
       "    </tr>\n",
       "  </thead>\n",
       "  <tbody>\n",
       "    <tr>\n",
       "      <th>0</th>\n",
       "      <td>2021-01-07</td>\n",
       "      <td>1</td>\n",
       "    </tr>\n",
       "    <tr>\n",
       "      <th>1</th>\n",
       "      <td>2021-01-10</td>\n",
       "      <td>2</td>\n",
       "    </tr>\n",
       "    <tr>\n",
       "      <th>2</th>\n",
       "      <td>2021-01-11</td>\n",
       "      <td>2</td>\n",
       "    </tr>\n",
       "    <tr>\n",
       "      <th>3</th>\n",
       "      <td>2021-01-12</td>\n",
       "      <td>9</td>\n",
       "    </tr>\n",
       "    <tr>\n",
       "      <th>4</th>\n",
       "      <td>2021-02-11</td>\n",
       "      <td>6</td>\n",
       "    </tr>\n",
       "  </tbody>\n",
       "</table>\n",
       "</div>"
      ],
      "text/plain": [
       "          ds  y\n",
       "0 2021-01-07  1\n",
       "1 2021-01-10  2\n",
       "2 2021-01-11  2\n",
       "3 2021-01-12  9\n",
       "4 2021-02-11  6"
      ]
     },
     "execution_count": 5,
     "metadata": {},
     "output_type": "execute_result"
    }
   ],
   "source": [
    "# Rename column names to 'ds' for the dates and 'y' for the values.\n",
    "# This is for use with prophet\n",
    "df.columns = ['ds', 'y']\n",
    "\n",
    "df.head()"
   ]
  },
  {
   "cell_type": "code",
   "execution_count": 6,
   "id": "0f2a5b04-dc70-47ce-a84f-4d999fa96526",
   "metadata": {},
   "outputs": [
    {
     "name": "stdout",
     "output_type": "stream",
     "text": [
      "length of train :202, length of test: 83\n",
      "percentage of data = 71% train / 29% test\n",
      "number of months in test: 6.242427975933797\n"
     ]
    }
   ],
   "source": [
    "# Creating a train-test split for cross validation\n",
    "# Dates start at Jan 2021 and end Dec 2022 \n",
    "cut_off_date = '2022-06-01'\n",
    "\n",
    "# Splitting the dataset based on the above cut off date\n",
    "train_df = df.loc[df['ds'] < cut_off_date]\n",
    "test_df = df.loc[df['ds'] >= cut_off_date]\n",
    "\n",
    "# Output some metrics about the split\n",
    "\n",
    "train_df_len = train_df.shape[0]\n",
    "test_df_len = test_df.shape[0]\n",
    "print(f\"length of train :{train_df_len}, length of test: {test_df_len}\")\n",
    "print(f\"percentage of data = { round((train_df_len/df.shape[0]) *100)}% train / { round((test_df_len/df.shape[0]) *100)}% test\")\n",
    "print(f\"number of months in test: { (test_df['ds'].max() - test_df['ds'].min()) /np.timedelta64(1, 'M') }\")"
   ]
  },
  {
   "cell_type": "code",
   "execution_count": 7,
   "id": "064cf33d-2ddb-44b2-8fbc-c452bd82c227",
   "metadata": {},
   "outputs": [],
   "source": [
    "# Create a new dataframe with resampled dates as monthly aggregates\n",
    "\n",
    "# Function will take a dataframe in the format that prophet requires with columns titled 'ds' and 'y' for dates and values\n",
    "# Function will return dataframe with monthly aggregated dates\n",
    "def month_resample(data):\n",
    "    resampled_data = data.set_index('ds').resample('M').sum()\n",
    "    resampled_data = resampled_data.reset_index()\n",
    "    \n",
    "    return resampled_data\n",
    "\n",
    "df_monthly = month_resample(df)\n",
    "train_df_monthly = month_resample(train_df)\n",
    "test_df_monthly = month_resample(test_df)"
   ]
  },
  {
   "cell_type": "code",
   "execution_count": 8,
   "id": "05287cf0-ac87-476c-be60-50e6859183ef",
   "metadata": {},
   "outputs": [
    {
     "data": {
      "image/png": "[encoded data removed]",
      "text/plain": [
       "<Figure size 1152x576 with 1 Axes>"
      ]
     },
     "metadata": {},
     "output_type": "display_data"
    }
   ],
   "source": [
    "# Plot of the train-test split\n",
    "\n",
    "# Plot aesthetics\n",
    "std_aesthetics(title='Train-Test Split', x_label='Date', y_label='Patients')\n",
    "\n",
    "# Plot of the train test split\n",
    "plt.plot(train_df_monthly['ds'], train_df_monthly['y'], linewidth=12)\n",
    "plt.plot(test_df_monthly['ds'], test_df_monthly['y'], linewidth=12, color='red')\n",
    "\n",
    "# Legend\n",
    "plt.legend([\"Train\", \"Test\"], fontsize=20)\n",
    "\n",
    "\n",
    "\n",
    "plt.show()"
   ]
  },
  {
   "cell_type": "markdown",
   "id": "55b14226-38da-4c7d-bc04-fa5ab11fac95",
   "metadata": {
    "tags": []
   },
   "source": [
    "## Forecasting"
   ]
  },
  {
   "cell_type": "markdown",
   "id": "d5fdf392-d326-4ea8-a906-9d8b652e7eb6",
   "metadata": {
    "tags": []
   },
   "source": [
    "**To-do:** <br>\n",
    "1. Compare those predictions with the actual values. Use RMSE \n",
    "2. Then forecast for a prediction 6-12 months beyond the last month in the test dataset.\n",
    "3. End with some commentary about the predictions and a mention of the caveats.\n",
    "<br><br><br>\n",
    "\n",
    "**Things to understand:**\n",
    "- What is an additive model\n",
    "- what are the alternatives to prophet and why choose them instead of prophet or vice versa.\n",
    "- Why doesn't prophet require preprocessing?\n",
    "- How to use the holidays feature of prophet "
   ]
  },
  {
   "cell_type": "code",
   "execution_count": 9,
   "id": "e8a9334c",
   "metadata": {},
   "outputs": [],
   "source": [
    "# # Create an instance of an 'empty' model\n",
    "# m = Prophet(interval_width=0.95)\n",
    "\n",
    "# # Train the model\n",
    "# model = m.fit(train_df_monthly)\n",
    "\n",
    "# # Creating the future dates to forecast\n",
    "# future_dates = model.make_future_dataframe(periods=7, freq='M')\n",
    "# future_dates"
   ]
  },
  {
   "cell_type": "code",
   "execution_count": 10,
   "id": "2fa4695a",
   "metadata": {},
   "outputs": [],
   "source": [
    "# # Forecasting output\n",
    "# forecast = model.predict(future_dates)\n",
    "# forecast"
   ]
  },
  {
   "cell_type": "code",
   "execution_count": 11,
   "id": "26155f69-338e-480e-bc57-fec58df67198",
   "metadata": {},
   "outputs": [],
   "source": [
    "# # Forecast plot\n",
    "# model.plot(forecast)\n",
    "\n",
    "# # Actual values plot\n",
    "# plt.scatter(test_df_monthly['ds'], test_df_monthly['y'], linewidth=0.5, color='red')\n",
    "\n",
    "\n",
    "# # Title and labels\n",
    "# plt.title(\"Forecast with Actual Values\", fontsize=20)\n",
    "# plt.xlabel(\"\", fontsize=16)\n",
    "# plt.ylabel(\"\", fontsize=16)\n",
    "\n",
    "# # Legend\n",
    "# plt.legend([\"Training Data\", \"Regression Line\", \"Confidence interval???\", \"Actual Values\"])\n",
    "\n",
    "\n",
    "# plt.show()"
   ]
  },
  {
   "cell_type": "markdown",
   "id": "c55a9310-e54b-422a-8144-f0134d8ff2cb",
   "metadata": {},
   "source": [
    "Some notes about what Prophet is doing: <br>\n",
    "You'll note that I've made no attempt at making the data stationary before shoving it into a model, but apparently the model that prophet is using isn't concerned with stationarity... <br>\n",
    "*\"No. Stationarity is an important condition for some other time series forecasting algorithms such as ARMA or ARIMA, but prophet assumes nothing about stationarity. Prophet rather makes use of features like trend or seasonality, which stationary data by definition do not have\"*\n",
    "<br><br>\n",
    "I'll probably want to learn how to intepret the plot and dataframe that prophet has output above, next.\n",
    "..."
   ]
  },
  {
   "cell_type": "code",
   "execution_count": 18,
   "id": "d655ce51-d6ac-4e80-b76c-49c45de8d63c",
   "metadata": {},
   "outputs": [
    {
     "name": "stderr",
     "output_type": "stream",
     "text": [
      "17:38:47 - cmdstanpy - INFO - Chain [1] start processing\n",
      "17:38:47 - cmdstanpy - INFO - Chain [1] done processing\n"
     ]
    },
    {
     "data": {
      "image/png": "[encoded data removed]",
      "text/plain": [
       "<Figure size 720x432 with 1 Axes>"
      ]
     },
     "metadata": {},
     "output_type": "display_data"
    }
   ],
   "source": [
    "# Create an instance of an 'empty' model\n",
    "m2 = Prophet(interval_width=0.95)\n",
    "\n",
    "# Train the model\n",
    "modelx = m2.fit(df_monthly)\n",
    "\n",
    "# Creating the future dates to forecast\n",
    "future_dates = modelx.make_future_dataframe(periods=6, freq='M')\n",
    "future_dates\n",
    "\n",
    "# Forecasting output\n",
    "forecast = modelx.predict(future_dates)\n",
    "modelx.plot(forecast)\n",
    "\n",
    "plt.show()"
   ]
  },
  {
   "cell_type": "code",
   "execution_count": null,
   "id": "3b451aeb-d407-4ddd-bbd1-e23bcc238519",
   "metadata": {},
   "outputs": [],
   "source": []
  },
  {
   "cell_type": "code",
   "execution_count": null,
   "id": "222638c2-435c-4439-831a-91926f20ef47",
   "metadata": {},
   "outputs": [],
   "source": []
  },
  {
   "cell_type": "code",
   "execution_count": null,
   "id": "dcde5ab7-3a46-4f20-b986-cfa609eaaf26",
   "metadata": {},
   "outputs": [],
   "source": []
  },
  {
   "cell_type": "code",
   "execution_count": null,
   "id": "30803782-feb1-4c28-b0c9-6608f83c3e65",
   "metadata": {},
   "outputs": [],
   "source": []
  },
  {
   "cell_type": "code",
   "execution_count": null,
   "id": "9bae6e24-8ee3-439a-8091-94a94dccedc2",
   "metadata": {},
   "outputs": [],
   "source": []
  },
  {
   "cell_type": "code",
   "execution_count": null,
   "id": "953ebff6-8d12-48f0-9bea-6d854468611b",
   "metadata": {},
   "outputs": [],
   "source": []
  },
  {
   "cell_type": "code",
   "execution_count": null,
   "id": "9a58ecae-c4a3-4556-9c39-7fc8701dc626",
   "metadata": {},
   "outputs": [],
   "source": []
  },
  {
   "cell_type": "markdown",
   "id": "1da838b7-9acf-4b31-a982-9654983c707e",
   "metadata": {
    "tags": []
   },
   "source": [
    "## Key Improvements & Caveats"
   ]
  },
  {
   "cell_type": "markdown",
   "id": "24a9ef6c-4585-4b62-8c5d-e2bae0d86aa8",
   "metadata": {},
   "source": [
    "There has been terrible model performance. <br>\n",
    "- What are the predictions and what are their measures of reliability?\n",
    "\n",
    "<br>\n",
    "Why has this been the case? <br>\n",
    "- lack of data. There are only 2 years worth of data and we would like to know what will happen half a year to one year in the future.\n",
    "- Both years in the data are completely different.\n",
    "- Is there any seasonality to be seen in the data? I'm not sure that there is. If not then only the trend has anything useful to show.\n",
    "\n",
    "<br>\n",
    "What would the next steps look like\n",
    "- Is there an issue with the data that can be fixed? Maybe a mention of just collecting more data? Would bootsrapping help?\n",
    "- Would a different model be more useful? XGBoost for example?"
   ]
  },
  {
   "cell_type": "markdown",
   "id": "f84d5704-8ada-4eec-93d8-d874d063f166",
   "metadata": {},
   "source": [
    "I've made a mistake in confusing forecasting with modelling in this project. I do not need a train-test split becuase I am not building a ML model and subsequently do not need to understand how it might perform with data outside of the training data. I am not building a model that will generalise predictions to unforseen data, instead I am taking the data I have and predicting what the value will be in the future. Predictive analysis can be done with forecasting as well as modelling. More generally, you can probably forecast with modelling but forecasting is not the same thing as modelling."
   ]
  },
  {
   "cell_type": "code",
   "execution_count": null,
   "id": "a3bc8da8-af6e-4306-83c0-66cfea2a3b71",
   "metadata": {},
   "outputs": [],
   "source": []
  },
  {
   "cell_type": "code",
   "execution_count": null,
   "id": "487cf61d-aca0-4ee0-aa4a-d852d84d9fe2",
   "metadata": {},
   "outputs": [],
   "source": []
  },
  {
   "cell_type": "code",
   "execution_count": null,
   "id": "b14cd426-7b4e-41eb-8c1a-58c3ffa2d988",
   "metadata": {},
   "outputs": [],
   "source": []
  },
  {
   "cell_type": "code",
   "execution_count": null,
   "id": "26800418-099f-4652-9f46-310c322ad676",
   "metadata": {},
   "outputs": [],
   "source": []
  }
 ],
 "metadata": {
  "kernelspec": {
   "display_name": "Python 3 (ipykernel)",
   "language": "python",
   "name": "python3"
  },
  "language_info": {
   "codemirror_mode": {
    "name": "ipython",
    "version": 3
   },
   "file_extension": ".py",
   "mimetype": "text/x-python",
   "name": "python",
   "nbconvert_exporter": "python",
   "pygments_lexer": "ipython3",
   "version": "3.9.12"
  }
 },
 "nbformat": 4,
 "nbformat_minor": 5
}
