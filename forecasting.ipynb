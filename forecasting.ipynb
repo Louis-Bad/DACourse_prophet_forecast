{
 "cells": [
  {
   "cell_type": "markdown",
   "id": "c3b79b56-968f-4b43-afe9-c57af40a382c",
   "metadata": {
    "tags": []
   },
   "source": [
    "# Messing around with Prophet"
   ]
  },
  {
   "cell_type": "markdown",
   "id": "b939bb93-c08e-4ada-9e7d-b3f878e9cf9b",
   "metadata": {
    "tags": []
   },
   "source": [
    "## Set up"
   ]
  },
  {
   "cell_type": "code",
   "execution_count": 1,
   "id": "d8a05c6e",
   "metadata": {},
   "outputs": [],
   "source": [
    "import pandas as pd\n",
    "from prophet import Prophet"
   ]
  },
  {
   "cell_type": "code",
   "execution_count": 14,
   "id": "8c4be586-a742-4b08-a8e4-5c8b4d8f4c85",
   "metadata": {},
   "outputs": [
    {
     "data": {
      "text/html": [
       "<div>\n",
       "<style scoped>\n",
       "    .dataframe tbody tr th:only-of-type {\n",
       "        vertical-align: middle;\n",
       "    }\n",
       "\n",
       "    .dataframe tbody tr th {\n",
       "        vertical-align: top;\n",
       "    }\n",
       "\n",
       "    .dataframe thead th {\n",
       "        text-align: right;\n",
       "    }\n",
       "</style>\n",
       "<table border=\"1\" class=\"dataframe\">\n",
       "  <thead>\n",
       "    <tr style=\"text-align: right;\">\n",
       "      <th></th>\n",
       "      <th>date</th>\n",
       "      <th>Patients Recruited</th>\n",
       "    </tr>\n",
       "  </thead>\n",
       "  <tbody>\n",
       "    <tr>\n",
       "      <th>0</th>\n",
       "      <td>2021-01-07</td>\n",
       "      <td>1</td>\n",
       "    </tr>\n",
       "    <tr>\n",
       "      <th>1</th>\n",
       "      <td>2021-01-10</td>\n",
       "      <td>2</td>\n",
       "    </tr>\n",
       "    <tr>\n",
       "      <th>2</th>\n",
       "      <td>2021-01-11</td>\n",
       "      <td>2</td>\n",
       "    </tr>\n",
       "    <tr>\n",
       "      <th>3</th>\n",
       "      <td>2021-01-12</td>\n",
       "      <td>9</td>\n",
       "    </tr>\n",
       "    <tr>\n",
       "      <th>4</th>\n",
       "      <td>2021-02-11</td>\n",
       "      <td>6</td>\n",
       "    </tr>\n",
       "  </tbody>\n",
       "</table>\n",
       "</div>"
      ],
      "text/plain": [
       "         date  Patients Recruited\n",
       "0  2021-01-07                   1\n",
       "1  2021-01-10                   2\n",
       "2  2021-01-11                   2\n",
       "3  2021-01-12                   9\n",
       "4  2021-02-11                   6"
      ]
     },
     "execution_count": 14,
     "metadata": {},
     "output_type": "execute_result"
    }
   ],
   "source": [
    "# Importing the dataset\n",
    "df = pd.read_csv('data/recruited_daily.csv')\n",
    "df.head()"
   ]
  },
  {
   "cell_type": "code",
   "execution_count": null,
   "id": "e42c444d-9259-4339-9db5-9ad3d9f3b6cb",
   "metadata": {},
   "outputs": [],
   "source": []
  },
  {
   "cell_type": "code",
   "execution_count": null,
   "id": "5729cc6e-e49f-415a-86d8-eac41d7a0713",
   "metadata": {},
   "outputs": [],
   "source": []
  },
  {
   "cell_type": "code",
   "execution_count": null,
   "id": "00b7ff2b-ce43-4536-acc0-bc13cb6692a4",
   "metadata": {},
   "outputs": [],
   "source": []
  },
  {
   "cell_type": "markdown",
   "id": "8593bb3a-87da-4f44-84be-25da9f0e6a2d",
   "metadata": {},
   "source": [
    "## Preprocessing"
   ]
  },
  {
   "cell_type": "code",
   "execution_count": 6,
   "id": "aabee612-49d6-4eed-afb7-e4da98032d86",
   "metadata": {},
   "outputs": [
    {
     "data": {
      "text/plain": [
       "date                  datetime64[ns]\n",
       "Patients Recruited             int64\n",
       "dtype: object"
      ]
     },
     "execution_count": 6,
     "metadata": {},
     "output_type": "execute_result"
    }
   ],
   "source": [
    "# Change dates to datetime objects\n",
    "df['date'] = pd.to_datetime(df['date'])\n",
    "df.dtypes"
   ]
  },
  {
   "cell_type": "code",
   "execution_count": 7,
   "id": "c6c08636-05e9-4529-bef5-be4da98894d4",
   "metadata": {},
   "outputs": [
    {
     "data": {
      "text/html": [
       "<div>\n",
       "<style scoped>\n",
       "    .dataframe tbody tr th:only-of-type {\n",
       "        vertical-align: middle;\n",
       "    }\n",
       "\n",
       "    .dataframe tbody tr th {\n",
       "        vertical-align: top;\n",
       "    }\n",
       "\n",
       "    .dataframe thead th {\n",
       "        text-align: right;\n",
       "    }\n",
       "</style>\n",
       "<table border=\"1\" class=\"dataframe\">\n",
       "  <thead>\n",
       "    <tr style=\"text-align: right;\">\n",
       "      <th></th>\n",
       "      <th>ds</th>\n",
       "      <th>y</th>\n",
       "    </tr>\n",
       "  </thead>\n",
       "  <tbody>\n",
       "    <tr>\n",
       "      <th>0</th>\n",
       "      <td>2021-01-07</td>\n",
       "      <td>1</td>\n",
       "    </tr>\n",
       "    <tr>\n",
       "      <th>1</th>\n",
       "      <td>2021-01-10</td>\n",
       "      <td>2</td>\n",
       "    </tr>\n",
       "    <tr>\n",
       "      <th>2</th>\n",
       "      <td>2021-01-11</td>\n",
       "      <td>2</td>\n",
       "    </tr>\n",
       "    <tr>\n",
       "      <th>3</th>\n",
       "      <td>2021-01-12</td>\n",
       "      <td>9</td>\n",
       "    </tr>\n",
       "    <tr>\n",
       "      <th>4</th>\n",
       "      <td>2021-02-11</td>\n",
       "      <td>6</td>\n",
       "    </tr>\n",
       "  </tbody>\n",
       "</table>\n",
       "</div>"
      ],
      "text/plain": [
       "          ds  y\n",
       "0 2021-01-07  1\n",
       "1 2021-01-10  2\n",
       "2 2021-01-11  2\n",
       "3 2021-01-12  9\n",
       "4 2021-02-11  6"
      ]
     },
     "execution_count": 7,
     "metadata": {},
     "output_type": "execute_result"
    }
   ],
   "source": [
    "# Rename column names to 'ds' for the dates and 'y' for the values.\n",
    "# This is for use with prophet\n",
    "df.columns = ['ds', 'y']\n",
    "\n",
    "df.head()"
   ]
  },
  {
   "cell_type": "code",
   "execution_count": 8,
   "id": "e0e64e2a-a3f4-4a2c-9018-5f24e981c2b5",
   "metadata": {},
   "outputs": [
    {
     "data": {
      "text/html": [
       "<div>\n",
       "<style scoped>\n",
       "    .dataframe tbody tr th:only-of-type {\n",
       "        vertical-align: middle;\n",
       "    }\n",
       "\n",
       "    .dataframe tbody tr th {\n",
       "        vertical-align: top;\n",
       "    }\n",
       "\n",
       "    .dataframe thead th {\n",
       "        text-align: right;\n",
       "    }\n",
       "</style>\n",
       "<table border=\"1\" class=\"dataframe\">\n",
       "  <thead>\n",
       "    <tr style=\"text-align: right;\">\n",
       "      <th></th>\n",
       "      <th>ds</th>\n",
       "      <th>y</th>\n",
       "    </tr>\n",
       "  </thead>\n",
       "  <tbody>\n",
       "    <tr>\n",
       "      <th>0</th>\n",
       "      <td>2021-01-31</td>\n",
       "      <td>14</td>\n",
       "    </tr>\n",
       "    <tr>\n",
       "      <th>1</th>\n",
       "      <td>2021-02-28</td>\n",
       "      <td>11</td>\n",
       "    </tr>\n",
       "    <tr>\n",
       "      <th>2</th>\n",
       "      <td>2021-03-31</td>\n",
       "      <td>16</td>\n",
       "    </tr>\n",
       "    <tr>\n",
       "      <th>3</th>\n",
       "      <td>2021-04-30</td>\n",
       "      <td>13</td>\n",
       "    </tr>\n",
       "    <tr>\n",
       "      <th>4</th>\n",
       "      <td>2021-05-31</td>\n",
       "      <td>10</td>\n",
       "    </tr>\n",
       "  </tbody>\n",
       "</table>\n",
       "</div>"
      ],
      "text/plain": [
       "          ds   y\n",
       "0 2021-01-31  14\n",
       "1 2021-02-28  11\n",
       "2 2021-03-31  16\n",
       "3 2021-04-30  13\n",
       "4 2021-05-31  10"
      ]
     },
     "execution_count": 8,
     "metadata": {},
     "output_type": "execute_result"
    }
   ],
   "source": [
    "# resampling dates as monthly aggregates\n",
    "df_monthly = df.set_index('ds').resample('M').sum()\n",
    "df_monthly = df_monthly.reset_index()\n",
    "\n",
    "df_monthly.head()"
   ]
  },
  {
   "cell_type": "markdown",
   "id": "55b14226-38da-4c7d-bc04-fa5ab11fac95",
   "metadata": {},
   "source": [
    "## Forecasting"
   ]
  },
  {
   "cell_type": "code",
   "execution_count": 9,
   "id": "e8a9334c",
   "metadata": {},
   "outputs": [
    {
     "name": "stderr",
     "output_type": "stream",
     "text": [
      "19:18:06 - cmdstanpy - INFO - Chain [1] start processing\n",
      "19:18:06 - cmdstanpy - INFO - Chain [1] done processing\n"
     ]
    }
   ],
   "source": [
    "# Train the model\n",
    "m = Prophet(interval_width=0.95)\n",
    "model = m.fit(df)"
   ]
  },
  {
   "cell_type": "code",
   "execution_count": 10,
   "id": "ef1f8696",
   "metadata": {},
   "outputs": [
    {
     "data": {
      "text/html": [
       "<div>\n",
       "<style scoped>\n",
       "    .dataframe tbody tr th:only-of-type {\n",
       "        vertical-align: middle;\n",
       "    }\n",
       "\n",
       "    .dataframe tbody tr th {\n",
       "        vertical-align: top;\n",
       "    }\n",
       "\n",
       "    .dataframe thead th {\n",
       "        text-align: right;\n",
       "    }\n",
       "</style>\n",
       "<table border=\"1\" class=\"dataframe\">\n",
       "  <thead>\n",
       "    <tr style=\"text-align: right;\">\n",
       "      <th></th>\n",
       "      <th>ds</th>\n",
       "    </tr>\n",
       "  </thead>\n",
       "  <tbody>\n",
       "    <tr>\n",
       "      <th>0</th>\n",
       "      <td>2021-01-07</td>\n",
       "    </tr>\n",
       "    <tr>\n",
       "      <th>1</th>\n",
       "      <td>2021-01-10</td>\n",
       "    </tr>\n",
       "    <tr>\n",
       "      <th>2</th>\n",
       "      <td>2021-01-11</td>\n",
       "    </tr>\n",
       "    <tr>\n",
       "      <th>3</th>\n",
       "      <td>2021-01-12</td>\n",
       "    </tr>\n",
       "    <tr>\n",
       "      <th>4</th>\n",
       "      <td>2021-02-11</td>\n",
       "    </tr>\n",
       "  </tbody>\n",
       "</table>\n",
       "</div>"
      ],
      "text/plain": [
       "          ds\n",
       "0 2021-01-07\n",
       "1 2021-01-10\n",
       "2 2021-01-11\n",
       "3 2021-01-12\n",
       "4 2021-02-11"
      ]
     },
     "execution_count": 10,
     "metadata": {},
     "output_type": "execute_result"
    }
   ],
   "source": [
    "# Creating the future dates to forcast\n",
    "future_dates = model.make_future_dataframe(periods=12, freq='M')\n",
    "future_dates.head()"
   ]
  },
  {
   "cell_type": "code",
   "execution_count": 11,
   "id": "2fa4695a",
   "metadata": {},
   "outputs": [
    {
     "data": {
      "text/html": [
       "<div>\n",
       "<style scoped>\n",
       "    .dataframe tbody tr th:only-of-type {\n",
       "        vertical-align: middle;\n",
       "    }\n",
       "\n",
       "    .dataframe tbody tr th {\n",
       "        vertical-align: top;\n",
       "    }\n",
       "\n",
       "    .dataframe thead th {\n",
       "        text-align: right;\n",
       "    }\n",
       "</style>\n",
       "<table border=\"1\" class=\"dataframe\">\n",
       "  <thead>\n",
       "    <tr style=\"text-align: right;\">\n",
       "      <th></th>\n",
       "      <th>ds</th>\n",
       "      <th>trend</th>\n",
       "      <th>yhat_lower</th>\n",
       "      <th>yhat_upper</th>\n",
       "      <th>trend_lower</th>\n",
       "      <th>trend_upper</th>\n",
       "      <th>additive_terms</th>\n",
       "      <th>additive_terms_lower</th>\n",
       "      <th>additive_terms_upper</th>\n",
       "      <th>weekly</th>\n",
       "      <th>weekly_lower</th>\n",
       "      <th>weekly_upper</th>\n",
       "      <th>multiplicative_terms</th>\n",
       "      <th>multiplicative_terms_lower</th>\n",
       "      <th>multiplicative_terms_upper</th>\n",
       "      <th>yhat</th>\n",
       "    </tr>\n",
       "  </thead>\n",
       "  <tbody>\n",
       "    <tr>\n",
       "      <th>0</th>\n",
       "      <td>2021-01-07</td>\n",
       "      <td>2.828397</td>\n",
       "      <td>-2.021493</td>\n",
       "      <td>10.781242</td>\n",
       "      <td>2.828397</td>\n",
       "      <td>2.828397</td>\n",
       "      <td>1.571477</td>\n",
       "      <td>1.571477</td>\n",
       "      <td>1.571477</td>\n",
       "      <td>1.571477</td>\n",
       "      <td>1.571477</td>\n",
       "      <td>1.571477</td>\n",
       "      <td>0.0</td>\n",
       "      <td>0.0</td>\n",
       "      <td>0.0</td>\n",
       "      <td>4.399874</td>\n",
       "    </tr>\n",
       "    <tr>\n",
       "      <th>1</th>\n",
       "      <td>2021-01-10</td>\n",
       "      <td>2.849663</td>\n",
       "      <td>-4.016330</td>\n",
       "      <td>8.891162</td>\n",
       "      <td>2.849663</td>\n",
       "      <td>2.849663</td>\n",
       "      <td>-0.157505</td>\n",
       "      <td>-0.157505</td>\n",
       "      <td>-0.157505</td>\n",
       "      <td>-0.157505</td>\n",
       "      <td>-0.157505</td>\n",
       "      <td>-0.157505</td>\n",
       "      <td>0.0</td>\n",
       "      <td>0.0</td>\n",
       "      <td>0.0</td>\n",
       "      <td>2.692158</td>\n",
       "    </tr>\n",
       "    <tr>\n",
       "      <th>2</th>\n",
       "      <td>2021-01-11</td>\n",
       "      <td>2.856752</td>\n",
       "      <td>-3.868124</td>\n",
       "      <td>9.414103</td>\n",
       "      <td>2.856752</td>\n",
       "      <td>2.856752</td>\n",
       "      <td>-0.079085</td>\n",
       "      <td>-0.079085</td>\n",
       "      <td>-0.079085</td>\n",
       "      <td>-0.079085</td>\n",
       "      <td>-0.079085</td>\n",
       "      <td>-0.079085</td>\n",
       "      <td>0.0</td>\n",
       "      <td>0.0</td>\n",
       "      <td>0.0</td>\n",
       "      <td>2.777667</td>\n",
       "    </tr>\n",
       "    <tr>\n",
       "      <th>3</th>\n",
       "      <td>2021-01-12</td>\n",
       "      <td>2.863841</td>\n",
       "      <td>-3.677802</td>\n",
       "      <td>9.732409</td>\n",
       "      <td>2.863841</td>\n",
       "      <td>2.863841</td>\n",
       "      <td>0.536667</td>\n",
       "      <td>0.536667</td>\n",
       "      <td>0.536667</td>\n",
       "      <td>0.536667</td>\n",
       "      <td>0.536667</td>\n",
       "      <td>0.536667</td>\n",
       "      <td>0.0</td>\n",
       "      <td>0.0</td>\n",
       "      <td>0.0</td>\n",
       "      <td>3.400508</td>\n",
       "    </tr>\n",
       "    <tr>\n",
       "      <th>4</th>\n",
       "      <td>2021-02-11</td>\n",
       "      <td>3.076503</td>\n",
       "      <td>-1.724631</td>\n",
       "      <td>11.187532</td>\n",
       "      <td>3.076503</td>\n",
       "      <td>3.076503</td>\n",
       "      <td>1.571477</td>\n",
       "      <td>1.571477</td>\n",
       "      <td>1.571477</td>\n",
       "      <td>1.571477</td>\n",
       "      <td>1.571477</td>\n",
       "      <td>1.571477</td>\n",
       "      <td>0.0</td>\n",
       "      <td>0.0</td>\n",
       "      <td>0.0</td>\n",
       "      <td>4.647979</td>\n",
       "    </tr>\n",
       "  </tbody>\n",
       "</table>\n",
       "</div>"
      ],
      "text/plain": [
       "          ds     trend  yhat_lower  yhat_upper  trend_lower  trend_upper  \\\n",
       "0 2021-01-07  2.828397   -2.021493   10.781242     2.828397     2.828397   \n",
       "1 2021-01-10  2.849663   -4.016330    8.891162     2.849663     2.849663   \n",
       "2 2021-01-11  2.856752   -3.868124    9.414103     2.856752     2.856752   \n",
       "3 2021-01-12  2.863841   -3.677802    9.732409     2.863841     2.863841   \n",
       "4 2021-02-11  3.076503   -1.724631   11.187532     3.076503     3.076503   \n",
       "\n",
       "   additive_terms  additive_terms_lower  additive_terms_upper    weekly  \\\n",
       "0        1.571477              1.571477              1.571477  1.571477   \n",
       "1       -0.157505             -0.157505             -0.157505 -0.157505   \n",
       "2       -0.079085             -0.079085             -0.079085 -0.079085   \n",
       "3        0.536667              0.536667              0.536667  0.536667   \n",
       "4        1.571477              1.571477              1.571477  1.571477   \n",
       "\n",
       "   weekly_lower  weekly_upper  multiplicative_terms  \\\n",
       "0      1.571477      1.571477                   0.0   \n",
       "1     -0.157505     -0.157505                   0.0   \n",
       "2     -0.079085     -0.079085                   0.0   \n",
       "3      0.536667      0.536667                   0.0   \n",
       "4      1.571477      1.571477                   0.0   \n",
       "\n",
       "   multiplicative_terms_lower  multiplicative_terms_upper      yhat  \n",
       "0                         0.0                         0.0  4.399874  \n",
       "1                         0.0                         0.0  2.692158  \n",
       "2                         0.0                         0.0  2.777667  \n",
       "3                         0.0                         0.0  3.400508  \n",
       "4                         0.0                         0.0  4.647979  "
      ]
     },
     "execution_count": 11,
     "metadata": {},
     "output_type": "execute_result"
    }
   ],
   "source": [
    "# Forecasting output\n",
    "forecast = m.predict(future_dates)\n",
    "forecast.head()"
   ]
  },
  {
   "cell_type": "code",
   "execution_count": 12,
   "id": "26155f69-338e-480e-bc57-fec58df67198",
   "metadata": {},
   "outputs": [
    {
     "data": {
      "image/png": "[encoded data removed]",
      "text/plain": [
       "<Figure size 720x432 with 1 Axes>"
      ]
     },
     "metadata": {},
     "output_type": "display_data"
    }
   ],
   "source": [
    "# Forecast plot\n",
    "plot1 = m.plot(forecast)"
   ]
  },
  {
   "cell_type": "code",
   "execution_count": 13,
   "id": "696a4cf9-8b16-4ead-8df3-b3bf7583dd8a",
   "metadata": {},
   "outputs": [],
   "source": [
    "# # forecasting with monthly dataframe\n",
    "\n",
    "# # Fit model\n",
    "# m = Prophet(interval_width=0.95)\n",
    "# model2 = m.fit(df_monthly)\n",
    "\n",
    "# # Creating the future dates\n",
    "# future_dates2 = model.make_future_dataframe(periods=12, freq='M')\n",
    "# future_dates2.head()\n",
    "\n",
    "# # Forecasting output\n",
    "# forecast = m.predict(future_dates2)\n",
    "\n",
    "# # Forecast plot\n",
    "# plot2 = m.plot(forecast)"
   ]
  },
  {
   "cell_type": "markdown",
   "id": "c55a9310-e54b-422a-8144-f0134d8ff2cb",
   "metadata": {},
   "source": [
    "Some notes about what Prophet is doing: <br>\n",
    "You'll note that I've made no attempt at making the data stationary before shoving it into a model, but apparently the model that prophet is using isn't concerned with stationarity... <br>\n",
    "*\"No. Stationarity is an important condition for some other time series forecasting algorithms such as ARMA or ARIMA, but prophet assumes nothing about stationarity. Prophet rather makes use of features like trend or seasonality, which stationary data by definition do not have\"*\n",
    "<br><br>\n",
    "I'll probably want to learn how to intepret the plot and dataframe that prophet has output above, next.\n",
    "..."
   ]
  },
  {
   "cell_type": "markdown",
   "id": "89a04b43-6e42-494d-b4bc-218332579777",
   "metadata": {},
   "source": [
    "# To-do:\n",
    "- Organisee notebook, change variable name such that the table that I've copied in has the same name as the table that the data is from in the original notebook.\n",
    "- Create a train-test spilt for cross validation.\n",
    "- Compare predictions with actual values\n",
    "- Then forecast for a prediction in the future.\n",
    "- Make some commments about the 95 confidence interval.\n",
    "\n",
    "\n",
    "Things to understand:\n",
    "- What is an additive model\n",
    "- what are the alternatives to prophet and why choose them instead of prophet or vice versa.\n",
    "- Why doesn't prophet require preprocessing?\n",
    "- How to use the holidays feature of prophet "
   ]
  },
  {
   "cell_type": "code",
   "execution_count": null,
   "id": "ab88c5b0-d900-4866-bc0f-5c5ccc5dae5e",
   "metadata": {},
   "outputs": [],
   "source": []
  },
  {
   "cell_type": "code",
   "execution_count": null,
   "id": "04e57643-4afc-4bbe-af97-20b83a18775a",
   "metadata": {},
   "outputs": [],
   "source": []
  },
  {
   "cell_type": "code",
   "execution_count": null,
   "id": "d32b3a99-bd44-4622-8de8-d79a147d1f5b",
   "metadata": {},
   "outputs": [],
   "source": []
  }
 ],
 "metadata": {
  "kernelspec": {
   "display_name": "Python 3 (ipykernel)",
   "language": "python",
   "name": "python3"
  },
  "language_info": {
   "codemirror_mode": {
    "name": "ipython",
    "version": 3
   },
   "file_extension": ".py",
   "mimetype": "text/x-python",
   "name": "python",
   "nbconvert_exporter": "python",
   "pygments_lexer": "ipython3",
   "version": "3.9.12"
  }
 },
 "nbformat": 4,
 "nbformat_minor": 5
}
